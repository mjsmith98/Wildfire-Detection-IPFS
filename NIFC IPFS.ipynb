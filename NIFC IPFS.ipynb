{
 "cells": [
  {
   "cell_type": "code",
   "execution_count": 1,
   "id": "5f59a38a",
   "metadata": {},
   "outputs": [],
   "source": [
    "import pandas as pd\n",
    "import requests\n",
    "import requests\n",
    "import json\n",
    "import simplejson\n",
    "import re\n",
    "import boto3\n",
    "from datetime import date\n",
    "from datetime import datetime, timedelta\n",
    "import subprocess\n",
    "from datetime import datetime\n",
    "import os\n",
    "import pickle\n",
    "# Gmail API utils\n",
    "from googleapiclient.discovery import build\n",
    "from google_auth_oauthlib.flow import InstalledAppFlow\n",
    "from google.auth.transport.requests import Request\n",
    "# for encoding/decoding messages in base64\n",
    "from base64 import urlsafe_b64decode, urlsafe_b64encode\n",
    "# for dealing with attachement MIME types\n",
    "from email.mime.text import MIMEText\n",
    "from email.mime.multipart import MIMEMultipart\n",
    "from email.mime.image import MIMEImage\n",
    "from email.mime.audio import MIMEAudio\n",
    "from email.mime.base import MIMEBase\n",
    "from mimetypes import guess_type as guess_mime_type\n",
    "import folium"
   ]
  },
  {
   "cell_type": "code",
   "execution_count": 2,
   "id": "46abdcfe",
   "metadata": {},
   "outputs": [],
   "source": [
    "SCOPES = ['https://mail.google.com/']\n",
    "our_email = 'mjsmith9822@gmail.com'\n"
   ]
  },
  {
   "cell_type": "code",
   "execution_count": 3,
   "id": "becd0544",
   "metadata": {},
   "outputs": [
    {
     "name": "stdout",
     "output_type": "stream",
     "text": [
      "Please visit this URL to authorize this application: https://accounts.google.com/o/oauth2/auth?response_type=code&client_id=550934624458-35lf9gj56b8l5ae5752o9i8e0fgknjj3.apps.googleusercontent.com&redirect_uri=http%3A%2F%2Flocalhost%3A62328%2F&scope=https%3A%2F%2Fmail.google.com%2F&state=mnHJK4fqXPNPv8MoGsu6nWVHB7yrzY&access_type=offline\n"
     ]
    }
   ],
   "source": [
    "def gmail_authenticate():\n",
    "    creds = None\n",
    "    # the file token.pickle stores the user's access and refresh tokens, and is\n",
    "    # created automatically when the authorization flow completes for the first time\n",
    "    if os.path.exists(\"token.pickle\"):\n",
    "        with open(\"token.pickle\", \"rb\") as token:\n",
    "            creds = pickle.load(token)\n",
    "    # if there are no (valid) credentials availablle, let the user log in.\n",
    "    if not creds or not creds.valid:\n",
    "        if creds and creds.expired and creds.refresh_token:\n",
    "            creds.refresh(Request())\n",
    "        else:\n",
    "            flow = InstalledAppFlow.from_client_secrets_file('client_secret_mj.json', SCOPES)\n",
    "            creds = flow.run_local_server(port=0)\n",
    "        # save the credentials for the next run\n",
    "        with open(\"token.pickle\", \"wb\") as token:\n",
    "            pickle.dump(creds, token)\n",
    "    return build('gmail', 'v1', credentials=creds)\n",
    "\n",
    "# get the Gmail API service\n",
    "service = gmail_authenticate()"
   ]
  },
  {
   "cell_type": "code",
   "execution_count": 4,
   "id": "dedc8a98",
   "metadata": {},
   "outputs": [],
   "source": [
    "def add_attachment(message, filename):\n",
    "    content_type, encoding = guess_mime_type(filename)\n",
    "    if content_type is None or encoding is not None:\n",
    "        content_type = 'application/octet-stream'\n",
    "    main_type, sub_type = content_type.split('/', 1)\n",
    "    print(main_type)\n",
    "    if main_type == 'text':\n",
    "        fp = open(filename, 'rb')\n",
    "        msg = MIMEText(fp.read().decode(), _subtype=sub_type)\n",
    "        fp.close()\n",
    "    elif main_type == 'image':\n",
    "        fp = open(filename, 'rb')\n",
    "        msg = MIMEImage(fp.read(), _subtype=sub_type)\n",
    "        fp.close()\n",
    "    elif main_type == 'audio':\n",
    "        fp = open(filename, 'rb')\n",
    "        msg = MIMEAudio(fp.read(), _subtype=sub_type)\n",
    "        fp.close()\n",
    "    elif main_type == 'application':\n",
    "        fp = open(filename, 'rb')\n",
    "        msg = MIMEAudio(fp.read(), _subtype=sub_type)\n",
    "        fp.close() \n",
    "    \n",
    "    else:\n",
    "        fp = open(filename, 'rb')\n",
    "        msg = MIMEBase(main_type, sub_type)\n",
    "        msg.set_payload(fp.read())\n",
    "        fp.close()\n",
    "    filename = os.path.basename(filename)\n",
    "    msg.add_header('Content-Disposition', 'attachment', filename=filename)\n",
    "    message.attach(msg)"
   ]
  },
  {
   "cell_type": "code",
   "execution_count": 5,
   "id": "e3fc7fdc",
   "metadata": {},
   "outputs": [],
   "source": [
    "def build_message(destination, obj, body, attachments=[]):\n",
    "    if not attachments: # no attachments given\n",
    "        message = MIMEText(body)\n",
    "        message['to'] = destination\n",
    "        message['from'] = our_email\n",
    "        message['subject'] = obj\n",
    "    else:\n",
    "        message = MIMEMultipart()\n",
    "        message['to'] = destination\n",
    "        message['from'] = our_email\n",
    "        message['subject'] = obj\n",
    "        message.attach(MIMEText(body))\n",
    "        for filename in attachments:\n",
    "            add_attachment(message, filename)\n",
    "    return {'raw': urlsafe_b64encode(message.as_bytes()).decode()}"
   ]
  },
  {
   "cell_type": "code",
   "execution_count": 6,
   "id": "2c146dce",
   "metadata": {},
   "outputs": [],
   "source": [
    "def send_message(service, destination, obj, body, attachments=[]):\n",
    "    return service.users().messages().send(\n",
    "      userId=\"me\",\n",
    "      body=build_message(destination, obj, body, attachments)\n",
    "    ).execute()"
   ]
  },
  {
   "cell_type": "code",
   "execution_count": 7,
   "id": "eec30242",
   "metadata": {},
   "outputs": [],
   "source": [
    "date=datetime.today().strftime('%Y-%m-%d')\n",
    "nifc_url = \"https://services3.arcgis.com/T4QMspbfLg3qTGWY/arcgis/rest/services/Current_WildlandFire_Locations/FeatureServer/0/query?where=1%3D1&outFields=*&outSR=4326&f=json&fbclid=IwAR1rXNbPiRzmlAwn_jvLW1XHRD6aNCj2xLobwzc7n3pCcd_XZ9ZTiBA-YKQ\"\n",
    "req = requests.get(nifc_url)\n",
    "req = req.json()\n",
    "incident_df = pd.DataFrame(req['features'])"
   ]
  },
  {
   "cell_type": "code",
   "execution_count": 10,
   "id": "89da207b",
   "metadata": {},
   "outputs": [],
   "source": [
    "attribute_df = incident_df['attributes'].apply(pd.Series)\n",
    "geometry_df = incident_df['geometry'].apply(pd.Series)\n",
    "incident_complete_df = pd.concat([attribute_df,geometry_df],axis = 1)\n",
    "incident_complete_df = incident_complete_df.rename(columns={'x':'Latitude', 'y':'Longitude'})\n",
    "incident_complete_df['CreatedOnDateTime'] = pd.to_datetime(incident_complete_df['FireDiscoveryDateTime'], unit='ms')\n",
    "incident_complete_df['TotalIncidentPersonnel'] = incident_complete_df['TotalIncidentPersonnel'].fillna(0)\n",
    "incident_complete_df['Alert'] = incident_complete_df.apply(create_alert,axis=1)\n",
    "\n",
    "\n",
    "incident_complete_df.to_csv('nifc_wildfires_' + date + '.csv')"
   ]
  },
  {
   "cell_type": "code",
   "execution_count": 9,
   "id": "229cc748",
   "metadata": {},
   "outputs": [],
   "source": [
    "def create_alert(incident_df):\n",
    "    fire_name = incident_df['IncidentName']\n",
    "    fire_size = incident_df['DailyAcres']\n",
    "    num_firefighters = incident_df['TotalIncidentPersonnel']\n",
    "    if fire_name != 'nan' and fire_size != 'nan' and num_firefighters != 'nan' and num_firefighters != 0:\n",
    "        alert = fire_name + ' fire found at ' + str(fire_size) + ' acres, with ' + str(int(num_firefighters)) + ' firefighters in attendance.'\n",
    "    elif fire_name and fire_size and not num_firefighters and fire_size != 'nan':\n",
    "        alert = fire_name + ' fire found at ' + str(fire_size) + ' acres.'\n",
    "    \n",
    "    return alert    \n",
    "    "
   ]
  },
  {
   "cell_type": "code",
   "execution_count": 11,
   "id": "7972f8c9",
   "metadata": {},
   "outputs": [],
   "source": [
    "fips_codes = pd.read_csv('US_fips_codes.csv')\n",
    "fips_dict = fips_codes.set_index(str('fips')).T.to_dict()"
   ]
  },
  {
   "cell_type": "code",
   "execution_count": null,
   "id": "1920901e",
   "metadata": {},
   "outputs": [],
   "source": [
    "# try:\n",
    "#     incident_complete_df['County'] = incident_complete_df.apply(lambda x: fips_dict.get(int(x['POOFips'])), axis=1)\n",
    "# except:\n",
    "#     incident_complete_df['County'] = 'No County Found'"
   ]
  },
  {
   "cell_type": "code",
   "execution_count": 12,
   "id": "9f205a07",
   "metadata": {},
   "outputs": [
    {
     "data": {
      "text/plain": [
       "{'id': '1837612a61e2d422',\n",
       " 'threadId': '1837612a61e2d422',\n",
       " 'labelIds': ['SENT']}"
      ]
     },
     "execution_count": 12,
     "metadata": {},
     "output_type": "execute_result"
    }
   ],
   "source": [
    "send_message(service, 'kearns.dylan@gmail.com', 'Wildfires_'+date, str(incident_complete_df['Alert'][1]))   \n"
   ]
  },
  {
   "cell_type": "code",
   "execution_count": null,
   "id": "dc4de2dc",
   "metadata": {},
   "outputs": [],
   "source": [
    "incident_complete_df['Alert'][4]"
   ]
  },
  {
   "cell_type": "code",
   "execution_count": null,
   "id": "c72430ab",
   "metadata": {},
   "outputs": [],
   "source": [
    "output = subprocess.check_output([r\"C:\\Program Files\\IPFS Desktop\\resources\\app.asar.unpacked\\node_modules\\go-ipfs\\go-ipfs\\ipfs.exe\",\"add\",r\"C:\\Users\\kearn\\Desktop\\Notebooks\\nifc_wildfires_\"+date+\".csv\"])\n",
    "output = output.decode('utf-8')"
   ]
  },
  {
   "cell_type": "code",
   "execution_count": null,
   "id": "c457f6db",
   "metadata": {},
   "outputs": [],
   "source": [
    "hashcode = output.split(' ')[1]\n",
    "output_file = subprocess.check_output([r\"C:\\Program Files\\IPFS Desktop\\resources\\app.asar.unpacked\\node_modules\\go-ipfs\\go-ipfs\\ipfs.exe\",\"cat\",hashcode])"
   ]
  },
  {
   "cell_type": "code",
   "execution_count": null,
   "id": "0ec3ee27",
   "metadata": {},
   "outputs": [],
   "source": [
    "mymap = folium.Map()\n",
    "for _,location in incident_complete_df.iterrows():\n",
    "\n",
    "    folium.Marker(\n",
    "    location=[location['Longitude'], location['Latitude']],\n",
    "    popup=location['IncidentName']).add_to(mymap)\n",
    "mymap"
   ]
  },
  {
   "cell_type": "code",
   "execution_count": null,
   "id": "15f1b9ac",
   "metadata": {},
   "outputs": [],
   "source": [
    "mymap"
   ]
  },
  {
   "cell_type": "code",
   "execution_count": null,
   "id": "f225c222",
   "metadata": {},
   "outputs": [],
   "source": []
  }
 ],
 "metadata": {
  "kernelspec": {
   "display_name": "Python 3",
   "language": "python",
   "name": "python3"
  },
  "language_info": {
   "codemirror_mode": {
    "name": "ipython",
    "version": 3
   },
   "file_extension": ".py",
   "mimetype": "text/x-python",
   "name": "python",
   "nbconvert_exporter": "python",
   "pygments_lexer": "ipython3",
   "version": "3.8.8"
  }
 },
 "nbformat": 4,
 "nbformat_minor": 5
}
